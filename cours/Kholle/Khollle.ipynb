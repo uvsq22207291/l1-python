{
 "cells": [
  {
   "cell_type": "code",
   "execution_count": 47,
   "metadata": {},
   "outputs": [
    {
     "name": "stdout",
     "output_type": "stream",
     "text": [
      "[96, 91, 65, 18, 18]\n"
     ]
    }
   ],
   "source": [
    "#Exercice 1\n",
    "import random\n",
    "\n",
    "Liste = []\n",
    "for n in range (5):\n",
    "    n = random.randint (1,99)\n",
    "    Liste.append(n)\n",
    "    Liste.sort (reverse=True)\n",
    "print (Liste)"
   ]
  },
  {
   "cell_type": "code",
   "execution_count": 51,
   "metadata": {},
   "outputs": [],
   "source": [
    "#Exercice 2\n",
    "base = [[\"Leonhard\", \"Euler\", \"01.43.64.00.00\"],\n",
    "[\"Sophie\", \"Germain\", \"01.43.64.11.11\"]]\n",
    "\n",
    "def quel_numero (base):\n",
    "    num = base[1],[2]\n",
    "    return\n",
    "print (num)\n",
    "\n",
    "quel_numero = (base[1],base[1],[1])"
   ]
  }
 ],
 "metadata": {
  "kernelspec": {
   "display_name": "Python 3.9.12",
   "language": "python",
   "name": "python3"
  },
  "language_info": {
   "codemirror_mode": {
    "name": "ipython",
    "version": 3
   },
   "file_extension": ".py",
   "mimetype": "text/x-python",
   "name": "python",
   "nbconvert_exporter": "python",
   "pygments_lexer": "ipython3",
   "version": "3.9.12"
  },
  "orig_nbformat": 4,
  "vscode": {
   "interpreter": {
    "hash": "608696cdeb044d1e1432ada046474b85f5bd968a4ed3fe67f399e69566d065d1"
   }
  }
 },
 "nbformat": 4,
 "nbformat_minor": 2
}

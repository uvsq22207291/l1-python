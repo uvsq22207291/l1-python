{
 "cells": [
  {
   "cell_type": "markdown",
   "metadata": {},
   "source": [
    "Exercice 1.\n",
    "\n",
    "Ecrire un programme qui affiche \"hello\" si un entier donné est multiple de 5.\n",
    "Sinon, il affichera \"Bye\""
   ]
  },
  {
   "cell_type": "code",
   "execution_count": 3,
   "metadata": {},
   "outputs": [
    {
     "name": "stdout",
     "output_type": "stream",
     "text": [
      "Bye\n"
     ]
    }
   ],
   "source": [
    "entier = int(input(\"Saisir un entier\"))\n",
    "if entier % 5 == 0:\n",
    "    print (\"Hello\")\n",
    "else :\n",
    "    print (\"Bye\")"
   ]
  },
  {
   "cell_type": "markdown",
   "metadata": {},
   "source": [
    "Exercice 2.\n",
    "\n",
    "Ecrire un programme qui permet de saisir 2 nombres et un opérateur parmi (+, -, *, /), puis affiche le résultat de l'opération correspondante."
   ]
  },
  {
   "cell_type": "code",
   "execution_count": 7,
   "metadata": {},
   "outputs": [
    {
     "name": "stdout",
     "output_type": "stream",
     "text": [
      "a * b = 50\n"
     ]
    }
   ],
   "source": [
    "a = int(input(\"Saisir un premier nombre\"))\n",
    "b = int(input(\"Saisir un deuxième nombre\"))\n",
    "\n",
    "op = input(\"Choisir l'opérateur (+ ou - ou * ou /)\")\n",
    "\n",
    "if op == \"+\":\n",
    "    print(\"a + b =\", a+b)\n",
    "elif op == \"-\":\n",
    "    print(\"a - b =\", a-b)\n",
    "elif op == \"*\":\n",
    "    print(\"a * b =\", a*b)\n",
    "elif op == \"/\":\n",
    "    print(\"a / b =\", a/b)\n",
    "else :\n",
    "    print(\"L'opérateur n'est pas reconnu\")"
   ]
  },
  {
   "cell_type": "markdown",
   "metadata": {},
   "source": [
    "Exercice 3.\n",
    "\n",
    "Ecrire un programme qui permet de saisir 3 entiers, puis affiche le 2ème plus grand parmi eux."
   ]
  },
  {
   "cell_type": "code",
   "execution_count": 27,
   "metadata": {},
   "outputs": [
    {
     "name": "stdout",
     "output_type": "stream",
     "text": [
      "Le 2ème entier le plus grand est b = 593\n",
      "375 593 832\n"
     ]
    }
   ],
   "source": [
    "a = int(input(\"Saisir un premier nombre\"))\n",
    "b = int(input(\"Saisir un second nombre\"))\n",
    "c = int(input(\"Saisir un dernier nombre\"))\n",
    "\n",
    "if a < b and a > c:\n",
    "    print(\"Le 2ème entier le plus grand est a =\", a)\n",
    "if b < c and b > a:\n",
    "    print (\"Le 2ème entier le plus grand est b =\", b)\n",
    "if c < a and c > b:\n",
    "    print(\"Le 2ème entier le plus grand est c =\", c)\n",
    "print (a,b,c)"
   ]
  },
  {
   "cell_type": "markdown",
   "metadata": {},
   "source": [
    "Exercice 4.\n",
    "\n",
    "Ecrire un programme qui permet de saisir 3 valeurs puis vérifie si elles peuvent représenter les 3 côtés d'un triangle rectangle."
   ]
  },
  {
   "cell_type": "code",
   "execution_count": null,
   "metadata": {},
   "outputs": [],
   "source": [
    "a = int(input(\"Saisir un premier nombre\"))\n",
    "b = int(input(\"Saisir un second nombre\"))\n",
    "c = int(input(\"Saisir un dernier nombre\"))\n",
    "\n"
   ]
  }
 ],
 "metadata": {
  "kernelspec": {
   "display_name": "base",
   "language": "python",
   "name": "python3"
  },
  "language_info": {
   "codemirror_mode": {
    "name": "ipython",
    "version": 3
   },
   "file_extension": ".py",
   "mimetype": "text/x-python",
   "name": "python",
   "nbconvert_exporter": "python",
   "pygments_lexer": "ipython3",
   "version": "3.11.4"
  },
  "orig_nbformat": 4
 },
 "nbformat": 4,
 "nbformat_minor": 2
}

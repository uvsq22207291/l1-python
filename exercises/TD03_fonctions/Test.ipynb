{
 "cells": [
  {
   "cell_type": "code",
   "execution_count": null,
   "metadata": {},
   "outputs": [],
   "source": [
    "#temps[0] : jours, temps[1]: heures, temps[2]: minutes, temps[3]: secondes\n",
    "\n",
    "def tempsEnSeconde(temps):\n",
    "    \"\"\" Renvoie la valeur en seconde de temps donné comme jour, heure, minute, seconde.\"\"\"\n",
    "    jours_en_secondes = temps[0] * 86400\n",
    "    heures_en_secondes = temps[1] * 3600\n",
    "    minutes_en_secondes = temps[2] * 60\n",
    "    secondes = temps[3]\n",
    "    pass\n",
    "    return (jours_en_secondes + heures_en_secondes + minutes_en_secondes + secondes)\n",
    "\n",
    "temps = (3,23,1,34)\n",
    "print(type(temps))\n",
    "print(tempsEnSeconde(temps))   "
   ]
  },
  {
   "cell_type": "code",
   "execution_count": null,
   "metadata": {},
   "outputs": [],
   "source": [
    "#temps[0] : jours, temps[1]: heures, temps[2]: minutes, temps[3]: secondes\n",
    "def secondeEnTemps(seconde):\n",
    "    \"\"\"Renvoie le temps (jour, heure, minute, seconde) qui correspond au nombre de seconde passé en argument\"\"\"\n",
    "    minutes = seconde // 60\n",
    "    seconde %= 60\n",
    "    heures = minutes // 60\n",
    "    minutes %= 60\n",
    "    jours = heures // 24\n",
    "    heures %= 24\n",
    "    pass\n",
    "    return (jours, heures, minutes,seconde)\n",
    "\n",
    "temps = secondeEnTemps(10000)\n",
    "print(temps[0],\"jours\",temps[1],\"heures\",temps[2],\"minutes\",temps[3],\"secondes\")"
   ]
  },
  {
   "cell_type": "code",
   "execution_count": 101,
   "metadata": {},
   "outputs": [
    {
     "ename": "UnboundLocalError",
     "evalue": "local variable 'jours' referenced before assignment",
     "output_type": "error",
     "traceback": [
      "\u001b[1;31m---------------------------------------------------------------------------\u001b[0m",
      "\u001b[1;31mUnboundLocalError\u001b[0m                         Traceback (most recent call last)",
      "\u001b[1;32mc:\\Users\\SwiKe\\Desktop\\Projet\\l1-python\\exercises\\TD03_fonctions\\Test.ipynb Cellule 3\u001b[0m in \u001b[0;36m<cell line: 22>\u001b[1;34m()\u001b[0m\n\u001b[0;32m     <a href='vscode-notebook-cell:/c%3A/Users/SwiKe/Desktop/Projet/l1-python/exercises/TD03_fonctions/Test.ipynb#X21sZmlsZQ%3D%3D?line=9'>10</a>\u001b[0m     \u001b[39mreturn\u001b[39;00m (jours,heures,minutes,secondes)\n\u001b[0;32m     <a href='vscode-notebook-cell:/c%3A/Users/SwiKe/Desktop/Projet/l1-python/exercises/TD03_fonctions/Test.ipynb#X21sZmlsZQ%3D%3D?line=20'>21</a>\u001b[0m     \u001b[39mpass\u001b[39;00m\n\u001b[1;32m---> <a href='vscode-notebook-cell:/c%3A/Users/SwiKe/Desktop/Projet/l1-python/exercises/TD03_fonctions/Test.ipynb#X21sZmlsZQ%3D%3D?line=21'>22</a>\u001b[0m \u001b[39mprint\u001b[39m (afficheTemps(temps))\n\u001b[0;32m     <a href='vscode-notebook-cell:/c%3A/Users/SwiKe/Desktop/Projet/l1-python/exercises/TD03_fonctions/Test.ipynb#X21sZmlsZQ%3D%3D?line=22'>23</a>\u001b[0m afficheTemps \u001b[39m=\u001b[39m (\u001b[39m1\u001b[39m,\u001b[39m0\u001b[39m,\u001b[39m14\u001b[39m,\u001b[39m23\u001b[39m)\n",
      "\u001b[1;32mc:\\Users\\SwiKe\\Desktop\\Projet\\l1-python\\exercises\\TD03_fonctions\\Test.ipynb Cellule 3\u001b[0m in \u001b[0;36mafficheTemps\u001b[1;34m(temps)\u001b[0m\n\u001b[0;32m      <a href='vscode-notebook-cell:/c%3A/Users/SwiKe/Desktop/Projet/l1-python/exercises/TD03_fonctions/Test.ipynb#X21sZmlsZQ%3D%3D?line=2'>3</a>\u001b[0m \u001b[39mdef\u001b[39;00m \u001b[39mafficheTemps\u001b[39m(temps):\n\u001b[1;32m----> <a href='vscode-notebook-cell:/c%3A/Users/SwiKe/Desktop/Projet/l1-python/exercises/TD03_fonctions/Test.ipynb#X21sZmlsZQ%3D%3D?line=3'>4</a>\u001b[0m     \u001b[39mif\u001b[39;00m jours \u001b[39mand\u001b[39;00m heures \u001b[39mand\u001b[39;00m minutes \u001b[39mand\u001b[39;00m secondes \u001b[39m>\u001b[39m \u001b[39m1\u001b[39m :\n\u001b[0;32m      <a href='vscode-notebook-cell:/c%3A/Users/SwiKe/Desktop/Projet/l1-python/exercises/TD03_fonctions/Test.ipynb#X21sZmlsZQ%3D%3D?line=4'>5</a>\u001b[0m         \u001b[39mprint\u001b[39m (\u001b[39m'\u001b[39m\u001b[39mjours\u001b[39m\u001b[39m'\u001b[39m, \u001b[39m'\u001b[39m\u001b[39mheures\u001b[39m\u001b[39m'\u001b[39m, \u001b[39m'\u001b[39m\u001b[39mminutes\u001b[39m\u001b[39m'\u001b[39m, \u001b[39m'\u001b[39m\u001b[39msecondes\u001b[39m\u001b[39m'\u001b[39m)\n\u001b[0;32m      <a href='vscode-notebook-cell:/c%3A/Users/SwiKe/Desktop/Projet/l1-python/exercises/TD03_fonctions/Test.ipynb#X21sZmlsZQ%3D%3D?line=5'>6</a>\u001b[0m     jours \u001b[39m=\u001b[39m afficheTemps[\u001b[39m0\u001b[39m]\n",
      "\u001b[1;31mUnboundLocalError\u001b[0m: local variable 'jours' referenced before assignment"
     ]
    }
   ],
   "source": [
    "#fonction auxiliaire ici\n",
    "\n",
    "def afficheTemps(temps):\n",
    "    if jours and heures and minutes and secondes > 1 :\n",
    "        print ('jours', 'heures', 'minutes', 'secondes')\n",
    "    jours = afficheTemps[0]\n",
    "    heures = afficherTemps[1]\n",
    "    minutes = afficherTemps[2]\n",
    "    secondes = afficherTemps[3]\n",
    "    return (jours,heures,minutes,secondes)\n",
    "    \n",
    "    \n",
    "    \n",
    "    \n",
    "    \n",
    "    \n",
    "    \n",
    "    \n",
    "    \n",
    "    \n",
    "    pass\n",
    "print (afficheTemps(temps))\n",
    "afficheTemps = (1,0,14,23) \n",
    "#print (afficheTemps(temps))"
   ]
  }
 ],
 "metadata": {
  "kernelspec": {
   "display_name": "Python 3.10.4 ('l1-python')",
   "language": "python",
   "name": "python3"
  },
  "language_info": {
   "codemirror_mode": {
    "name": "ipython",
    "version": 3
   },
   "file_extension": ".py",
   "mimetype": "text/x-python",
   "name": "python",
   "nbconvert_exporter": "python",
   "pygments_lexer": "ipython3",
   "version": "3.10.4"
  },
  "orig_nbformat": 4,
  "vscode": {
   "interpreter": {
    "hash": "f29b0eebbbb0821e9ca5a94ab698c5a9e128db830d37f2782dce50e1ab4b5f80"
   }
  }
 },
 "nbformat": 4,
 "nbformat_minor": 2
}

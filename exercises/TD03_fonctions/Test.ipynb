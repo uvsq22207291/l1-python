{
 "cells": [
  {
   "cell_type": "code",
   "execution_count": null,
   "metadata": {},
   "outputs": [],
   "source": [
    "#temps[0] : jours, temps[1]: heures, temps[2]: minutes, temps[3]: secondes\n",
    "\n",
    "def tempsEnSeconde(temps):\n",
    "    \"\"\" Renvoie la valeur en seconde de temps donné comme jour, heure, minute, seconde.\"\"\"\n",
    "    jours_en_secondes = temps[0] * 86400\n",
    "    heures_en_secondes = temps[1] * 3600\n",
    "    minutes_en_secondes = temps[2] * 60\n",
    "    secondes = temps[3]\n",
    "    pass\n",
    "    return (jours_en_secondes + heures_en_secondes + minutes_en_secondes + secondes)\n",
    "\n",
    "temps = (3,23,1,34)\n",
    "print(type(temps))\n",
    "print(tempsEnSeconde(temps))   "
   ]
  },
  {
   "cell_type": "code",
   "execution_count": null,
   "metadata": {},
   "outputs": [],
   "source": [
    "#temps[0] : jours, temps[1]: heures, temps[2]: minutes, temps[3]: secondes\n",
    "def secondeEnTemps(seconde):\n",
    "    \"\"\"Renvoie le temps (jour, heure, minute, seconde) qui correspond au nombre de seconde passé en argument\"\"\"\n",
    "    minutes = seconde // 60\n",
    "    seconde %= 60\n",
    "    heures = minutes // 60\n",
    "    minutes %= 60\n",
    "    jours = heures // 24\n",
    "    heures %= 24\n",
    "    pass\n",
    "    return (jours, heures, minutes,seconde)\n",
    "\n",
    "temps = secondeEnTemps(10000)\n",
    "print(temps[0],\"jours\",temps[1],\"heures\",temps[2],\"minutes\",temps[3],\"secondes\")"
   ]
  },
  {
   "cell_type": "code",
   "execution_count": 89,
   "metadata": {},
   "outputs": [
    {
     "name": "stdout",
     "output_type": "stream",
     "text": [
      "jour\n",
      "heure\n",
      "minutes\n",
      "secondes\n",
      "0 jours 2 heures 46 minutes 40 secondes\n"
     ]
    }
   ],
   "source": [
    "#fonction auxiliaire ici\n",
    "#temps[0] : jours, temps[1]: heures, temps[2]: minutes, temps[3]: secondes\n",
    "\n",
    "def afficheTemps(temps):\n",
    "    jours = temps[0]\n",
    "    if jours > 1 :\n",
    "        print(\"jours\")\n",
    "    else :\n",
    "        print('jour')\n",
    "    heures = temps[1]\n",
    "    if heures > 1 :\n",
    "        print ('heures')\n",
    "    else :\n",
    "        print ('heure')\n",
    "    minutes = temps [2]\n",
    "    if minutes > 1 :\n",
    "        print ('minutes')\n",
    "    else :\n",
    "        print ('minute')\n",
    "    secondes = temps[3]\n",
    "    if secondes > 1 :\n",
    "        print ('secondes')\n",
    "    else :\n",
    "        print ('secondes')\n",
    "    pass\n",
    "    return (jours, heures, minutes,secondes)\n",
    "    \n",
    "    \n",
    "afficheTemps((1,0,14,23))\n",
    "print(temps[0],\"jours\",temps[1],\"heures\",temps[2],\"minutes\",temps[3],\"secondes\")"
   ]
  }
 ],
 "metadata": {
  "kernelspec": {
   "display_name": "Python 3.10.4 ('l1-python')",
   "language": "python",
   "name": "python3"
  },
  "language_info": {
   "codemirror_mode": {
    "name": "ipython",
    "version": 3
   },
   "file_extension": ".py",
   "mimetype": "text/x-python",
   "name": "python",
   "nbconvert_exporter": "python",
   "pygments_lexer": "ipython3",
   "version": "3.10.4"
  },
  "orig_nbformat": 4,
  "vscode": {
   "interpreter": {
    "hash": "f29b0eebbbb0821e9ca5a94ab698c5a9e128db830d37f2782dce50e1ab4b5f80"
   }
  }
 },
 "nbformat": 4,
 "nbformat_minor": 2
}
